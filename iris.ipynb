{
 "cells": [
  {
   "cell_type": "code",
   "execution_count": 1,
   "id": "2d4c6862",
   "metadata": {},
   "outputs": [],
   "source": [
    "import cv2 as cv\n",
    "import numpy as np\n",
    "import mediapipe as mp\n",
    "import math"
   ]
  },
  {
   "cell_type": "code",
   "execution_count": 2,
   "id": "43598727",
   "metadata": {},
   "outputs": [],
   "source": [
    "mp_face_mesh = mp.solutions.face_mesh"
   ]
  },
  {
   "cell_type": "code",
   "execution_count": 12,
   "id": "96b9fb05",
   "metadata": {},
   "outputs": [],
   "source": [
    "def getIris(face_landmarks, image):\n",
    "    img_h, img_w = image.shape[:2]\n",
    "    mesh_points = np.array([np.multiply([p.x,p.y],[img_w,img_h]).astype(int)for p in face_landmarks[0].landmark])\n",
    "    (l_cx, l_cy), l_radius = cv.minEnclosingCircle(mesh_points[LEFT_IRIS])\n",
    "    (r_cx, r_cy), r_radius = cv.minEnclosingCircle(mesh_points[RIGHT_IRIS])\n",
    "    center_left = np.array([l_cx,l_cy], dtype = np.int32)\n",
    "    center_right = np.array([r_cx, r_cy], dtype = np.int32)\n",
    "    llm = mesh_points[R_H_RIGHT][0]\n",
    "    lrm = mesh_points[R_H_LEFT][0]\n",
    "    iris_pos,ratio = iris_position(center_right, llm, lrm)\n",
    "    return iris_pos"
   ]
  },
  {
   "cell_type": "code",
   "execution_count": 5,
   "id": "82fe2a0a",
   "metadata": {},
   "outputs": [],
   "source": [
    "RIGHT_IRIS = [474,475,476,477]\n",
    "LEFT_IRIS = [469,470,471,472]"
   ]
  },
  {
   "cell_type": "code",
   "execution_count": 6,
   "id": "1efadeb4",
   "metadata": {},
   "outputs": [],
   "source": [
    "L_H_LEFT = [33] # right eye right most mark\n",
    "L_H_RIGHT = [133] # right eye left most mark\n",
    "R_H_LEFT = [362] #left eye right most mark\n",
    "R_H_RIGHT = [263] #left eye left most mark"
   ]
  },
  {
   "cell_type": "code",
   "execution_count": 8,
   "id": "d1679b13",
   "metadata": {},
   "outputs": [],
   "source": [
    "def euclidean_distance(point1, point2):\n",
    "    x1,y1 = point1.ravel()\n",
    "    x2,y2 = point2.ravel()\n",
    "    distance = math.sqrt((x2-x1)**2 + (y2-y1)**2)\n",
    "    return distance\n",
    "\n",
    "def iris_position(iris_center, right_point, left_point):\n",
    "    center_to_right_dist = euclidean_distance(iris_center, right_point)\n",
    "    total_distance = euclidean_distance(right_point, left_point)\n",
    "    ratio = center_to_right_dist / total_distance\n",
    "    iris_position = \"\"\n",
    "    if ratio <=0.42:\n",
    "        iris_position = \"right\"\n",
    "    elif 0.42<ratio<=0.57:\n",
    "        iris_position = 'center'\n",
    "    else:\n",
    "        iris_position = 'left'\n",
    "    return iris_position, ratio"
   ]
  },
  {
   "cell_type": "code",
   "execution_count": 14,
   "id": "8d464c1f",
   "metadata": {},
   "outputs": [],
   "source": [
    "cap = cv.VideoCapture(0)\n",
    "with mp_face_mesh.FaceMesh(max_num_faces=1, \n",
    "                           refine_landmarks=True,\n",
    "                           min_detection_confidence=0.5,\n",
    "                           min_tracking_confidence=0.5\n",
    "                          ) as face_mesh:\n",
    "    while True:\n",
    "        ret, frame = cap.read()\n",
    "        if not ret:\n",
    "            break\n",
    "        frame = cv.flip(frame,1)\n",
    "        rgb_frame = cv.cvtColor(frame, cv.COLOR_BGR2RGB)\n",
    "        img_h, img_w = frame.shape[:2]\n",
    "        results = face_mesh.process(rgb_frame)\n",
    "        if results.multi_face_landmarks:\n",
    "            iris_pos = getIris(results.multi_face_landmarks, frame)\n",
    "            cv.putText(frame, f\"Eye_Position : {iris_pos}\", (10,10), cv.FONT_HERSHEY_PLAIN, 1.2, (0,255,0))\n",
    "        cv.imshow('img', frame)\n",
    "        key = cv.waitKey(1)\n",
    "        if key == ord('q'):\n",
    "            break\n",
    "cap.release()\n",
    "cv.destroyAllWindows()"
   ]
  },
  {
   "cell_type": "code",
   "execution_count": null,
   "id": "965b5552",
   "metadata": {},
   "outputs": [],
   "source": []
  }
 ],
 "metadata": {
  "kernelspec": {
   "display_name": "Python 3 (ipykernel)",
   "language": "python",
   "name": "python3"
  },
  "language_info": {
   "codemirror_mode": {
    "name": "ipython",
    "version": 3
   },
   "file_extension": ".py",
   "mimetype": "text/x-python",
   "name": "python",
   "nbconvert_exporter": "python",
   "pygments_lexer": "ipython3",
   "version": "3.11.2"
  }
 },
 "nbformat": 4,
 "nbformat_minor": 5
}
